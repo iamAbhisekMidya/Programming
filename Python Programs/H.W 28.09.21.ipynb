{
 "cells": [
  {
   "cell_type": "code",
   "execution_count": 4,
   "id": "8f02b919",
   "metadata": {},
   "outputs": [
    {
     "name": "stdout",
     "output_type": "stream",
     "text": [
      "Enter numbers seperated by comma : 30,100,90,10,20,40,60,50,70,80\n",
      "Enter Searched value : 10\n",
      "Value  10  found at  1  position.\n",
      "\n"
     ]
    }
   ],
   "source": [
    "lst=[int(x) for x in input(\"Enter numbers seperated by comma : \").split(\",\")]\n",
    "x=int(input(\"Enter Searched value : \"))\n",
    "lst.sort()\n",
    "h=len(lst)-1\n",
    "l=0\n",
    "while l<=h :\n",
    "    mid=(l+h)//2\n",
    "    if x==lst[mid] :\n",
    "        print(\"Value \",x,\" found at \",mid+1,\" position.\\n\")\n",
    "        break\n",
    "    if x<lst[mid] :\n",
    "        h=mid-1\n",
    "    else :\n",
    "        l=mid+1\n",
    "else :\n",
    "    print(\"Value \",x,\" Not Found.\\n\")"
   ]
  },
  {
   "cell_type": "code",
   "execution_count": 5,
   "id": "bded5c0c",
   "metadata": {},
   "outputs": [
    {
     "name": "stdout",
     "output_type": "stream",
     "text": [
      "Enter the Numbers of Rows : 5\n",
      "    * \n",
      "   * * \n",
      "  * * * \n",
      " * * * * \n",
      "* * * * * \n"
     ]
    }
   ],
   "source": [
    "n=int(input(\"Enter the Numbers of Rows : \"))\n",
    "for i in range(1,n+1,1):\n",
    "    print(\" \"*(n-i)+\"* \"*i)"
   ]
  },
  {
   "cell_type": "code",
   "execution_count": 6,
   "id": "bd3a83f6",
   "metadata": {},
   "outputs": [
    {
     "name": "stdout",
     "output_type": "stream",
     "text": [
      "Enter the Numbers of Rows : 5\n",
      "    *\n",
      "   **\n",
      "  ***\n",
      " ****\n",
      "*****\n"
     ]
    }
   ],
   "source": [
    "n=int(input(\"Enter the Numbers of Rows : \"))\n",
    "for i in range(1,n+1,1):\n",
    "    print(\" \"*(n-i)+\"*\"*i)"
   ]
  },
  {
   "cell_type": "code",
   "execution_count": 7,
   "id": "9aab9ee3",
   "metadata": {},
   "outputs": [
    {
     "name": "stdout",
     "output_type": "stream",
     "text": [
      "Enter the Numbers of Rows : 5\n",
      "*\n",
      "**\n",
      "***\n",
      "****\n",
      "*****\n"
     ]
    }
   ],
   "source": [
    "n=int(input(\"Enter the Numbers of Rows : \"))\n",
    "for i in range(1,n+1,1):\n",
    "    print(\"*\"*i)"
   ]
  },
  {
   "cell_type": "code",
   "execution_count": 8,
   "id": "c29244b2",
   "metadata": {},
   "outputs": [
    {
     "name": "stdout",
     "output_type": "stream",
     "text": [
      "Enter the Numbers of Rows : 7\n",
      "   * \n",
      "  * * \n",
      " * * * \n",
      "* * * * \n",
      " * * * \n",
      "  * * \n",
      "   * \n"
     ]
    }
   ],
   "source": [
    "n=int(input(\"Enter the Numbers of Rows : \"))\n",
    "x=(n+1)//2\n",
    "for i in range(1,x+1,1):\n",
    "    print(\" \"*(x-i)+\"* \"*i)\n",
    "for i in range(x-1,0,-1):\n",
    "    print(\" \"*(x-i)+\"* \"*i)"
   ]
  },
  {
   "cell_type": "code",
   "execution_count": null,
   "id": "fbf256ef",
   "metadata": {},
   "outputs": [],
   "source": []
  }
 ],
 "metadata": {
  "kernelspec": {
   "display_name": "Python 3",
   "language": "python",
   "name": "python3"
  },
  "language_info": {
   "codemirror_mode": {
    "name": "ipython",
    "version": 3
   },
   "file_extension": ".py",
   "mimetype": "text/x-python",
   "name": "python",
   "nbconvert_exporter": "python",
   "pygments_lexer": "ipython3",
   "version": "3.8.8"
  }
 },
 "nbformat": 4,
 "nbformat_minor": 5
}
